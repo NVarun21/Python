{
 "cells": [
  {
   "cell_type": "code",
   "execution_count": 1,
   "id": "f68f3328-f596-4eec-b8d1-6ead09375d7b",
   "metadata": {},
   "outputs": [
    {
     "name": "stdout",
     "output_type": "stream",
     "text": [
      "54\n"
     ]
    }
   ],
   "source": [
    "#1 Write a code to reverse a number\n",
    "#To reverse a number, you need to take the digits of the number and rearrange them in the opposite order.\n",
    "#Start by converting the number to a string, reverse that string, and then convert it back to an integer. This will give you the reversed version of the original number.\n",
    "#Example: If the number is 908701, take digits from last → 1, 0, 7, 8, 0, 9 → and make it 107809.\n",
    "num=int(input())\n",
    "temp=num\n",
    "revnum=0\n",
    "while num>0:\n",
    "    lastdigit=num%10\n",
    "    revnum=(revnum*10)+lastdigit\n",
    "    num=num//10\n",
    "print(revnum)"
   ]
  },
  {
   "cell_type": "code",
   "execution_count": 3,
   "id": "1989e850-2fa2-4320-96c7-8a2dd39fa12e",
   "metadata": {},
   "outputs": [
    {
     "name": "stdout",
     "output_type": "stream",
     "text": [
      "0 1 1 2 3 5 8 13 21 34 "
     ]
    }
   ],
   "source": [
    "#2. Write the code to find the Fibonacci series upto the nth term.\n",
    "#This problem asks to generate the Fibonacci sequence up to the nth term. In this sequence, each number is the sum of the two preceding ones, starting from 0 and 1.\n",
    "#The goal is to calculate and display all Fibonacci numbers from the 0th to the nth term.\n",
    "#Example for n = 10:\n",
    "#0, 1, 1, 2, 3, 5, 8, 13, 21, 34   \n",
    "#(Writing: Start with 0 and 1 → 0+1=1 → 1+1=2 → 1+2=3 → 2+3=5 → and so on.)\n",
    "def fib(n):\n",
    "    if n<=1:\n",
    "        return n\n",
    "    else:\n",
    "        return fib(n-1)+fib(n-2)\n",
    "n=int(input())\n",
    "for i in range(n):\n",
    "    print(fib(i),end=' ')"
   ]
  },
  {
   "cell_type": "code",
   "execution_count": null,
   "id": "1a774749-7997-4a56-b599-f725c5c8e764",
   "metadata": {},
   "outputs": [
    {
     "name": "stdout",
     "output_type": "stream",
     "text": [
      " 48\n",
      " 12\n"
     ]
    },
    {
     "name": "stdout",
     "output_type": "stream",
     "text": [
      "12\n"
     ]
    }
   ],
   "source": [
    "#3. Write code of Greatest Common Divisor \n",
    "#This problem asks to find the Greatest Common Divisor (GCD) of two given numbers. The GCD of two numbers is the largest positive integer that divides both numbers without leaving a remainder.\n",
    "#The Euclidean algorithm is a popular method for efficiently computing the GCD.\n",
    "#Example: Find GCD of 36 and 60:\n",
    "#The common divisors of 36 and 60 are 1, 2, 3, 4, 6, 9, 12, 18, 36 and 1, 2, 3, 4, 5, 6, 10, 12, 15, 20, 30, 60.\n",
    "#The largest common divisor is 12.\n",
    "def gcd(a,b):\n",
    "    while b!=0:\n",
    "        a,b=b,a%b\n",
    "    return a\n",
    "x=int(input())\n",
    "y=int(input())\n",
    "print(gcd(x,y))"
   ]
  },
  {
   "cell_type": "code",
   "execution_count": null,
   "id": "72e987af-0ce8-4df9-ad42-e7f1963e25fd",
   "metadata": {},
   "outputs": [
    {
     "name": "stdout",
     "output_type": "stream",
     "text": [
      "not perfect\n"
     ]
    }
   ],
   "source": [
    "#4. Write code of  Perfect number\n",
    "#A perfect number is a positive integer that is equal to the sum of its proper divisors, excluding the number itself. \n",
    "#Example: Is 28 a perfect number?\n",
    "#The divisors of 28 are 1, 2, 4, 7, 14.\n",
    "#Sum of divisors: 1 + 2 + 4 + 7 + 14 = 28, so 28 is a perfect number.\n",
    "def perfect(n):\n",
    "    Sum=0\n",
    "    for i in range(1,n):\n",
    "        if n%i==0:\n",
    "            Sum+=i\n",
    "    if Sum==n:\n",
    "        print(\"perfect\")\n",
    "    else:\n",
    "        print(\"not perfect\")\n",
    "    return\n",
    "perfect(5)"
   ]
  },
  {
   "cell_type": "code",
   "execution_count": null,
   "id": "eb13b751-d8d2-49a3-9339-ba6943b33b1f",
   "metadata": {},
   "outputs": [
    {
     "name": "stdout",
     "output_type": "stream",
     "text": [
      " listen\n",
      " listen\n"
     ]
    },
    {
     "data": {
      "text/plain": [
       "True"
      ]
     },
     "execution_count": 3,
     "metadata": {},
     "output_type": "execute_result"
    }
   ],
   "source": [
    "#5. Write code to Check if two strings are Anagram or not\n",
    "#Two strings are called anagrams if they contain the same characters in the same frequencies, but possibly in different orders.\n",
    "'''\n",
    "This code checks whether two given strings are anagrams of each other.\n",
    "Example: Are “listen” and “silent” anagrams?\n",
    "Sort both:\n",
    "“listen” → “eilnst”\n",
    "\n",
    "“silent” → “eilnst”\n",
    "Both are the same, so “listen” and “silent” are anagrams.'''\n",
    "def anagram(a,b):\n",
    "    return sorted(a)==sorted(b)\n",
    "\n",
    "a=input()\n",
    "b=input()\n",
    "anagram(a,b)"
   ]
  },
  {
   "cell_type": "code",
   "execution_count": null,
   "id": "ea414006-cd93-4781-b274-1fca1b350ac6",
   "metadata": {},
   "outputs": [
    {
     "name": "stdout",
     "output_type": "stream",
     "text": [
      " 121\n"
     ]
    },
    {
     "name": "stdout",
     "output_type": "stream",
     "text": [
      "It is a palindrome\n"
     ]
    }
   ],
   "source": [
    "#6. Write code Check if the given string is Palindrome or not\n",
    "def palindrome(s):\n",
    "    if s==s[::-1]:\n",
    "        print(\"It is a palindrome\")\n",
    "    else:\n",
    "        print(\"not palindrome\")\n",
    "s=input()\n",
    "palindrome(s)"
   ]
  },
  {
   "cell_type": "code",
   "execution_count": null,
   "id": "8db012ce-89df-44b7-ae30-ef7f15081a70",
   "metadata": {},
   "outputs": [
    {
     "name": "stdout",
     "output_type": "stream",
     "text": [
      " hello world\n"
     ]
    },
    {
     "data": {
      "text/plain": [
       "{'h': 1, 'e': 1, 'l': 3, 'o': 2, ' ': 1, 'w': 1, 'r': 1, 'd': 1}"
      ]
     },
     "execution_count": 12,
     "metadata": {},
     "output_type": "execute_result"
    }
   ],
   "source": [
    "#7. Write code to Calculate frequency of characters in a string\n",
    "\n",
    "'''This problem asks to calculate the frequency of each character in a given string.\n",
    "\n",
    "The goal is to determine how many times each character appears in the string.\n",
    "Example for string “hello”:\n",
    "‘h’ appears 1 time\n",
    "‘e’ appears 1 time\n",
    "‘l’ appears 2 times\n",
    "‘o’ appears 1 time'''\n",
    "\n",
    "def freq_char(s):\n",
    "    dic={}\n",
    "    for char in s:\n",
    "        if char in dic:\n",
    "            dic[char]+=1\n",
    "        else:\n",
    "            dic[char]=1\n",
    "    return dic\n",
    "s=input()\n",
    "freq_char(s)        "
   ]
  },
  {
   "cell_type": "code",
   "execution_count": null,
   "id": "08168e15-72d5-44ff-ad9f-d4d228c350ee",
   "metadata": {},
   "outputs": [],
   "source": []
  }
 ],
 "metadata": {
  "kernelspec": {
   "display_name": "Python 3",
   "language": "python",
   "name": "python3"
  },
  "language_info": {
   "codemirror_mode": {
    "name": "ipython",
    "version": 3
   },
   "file_extension": ".py",
   "mimetype": "text/x-python",
   "name": "python",
   "nbconvert_exporter": "python",
   "pygments_lexer": "ipython3",
   "version": "3.13.2"
  }
 },
 "nbformat": 4,
 "nbformat_minor": 5
}

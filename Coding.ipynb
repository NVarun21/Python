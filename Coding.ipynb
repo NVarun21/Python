{
 "cells": [
  {
   "cell_type": "code",
   "execution_count": 1,
   "id": "f68f3328-f596-4eec-b8d1-6ead09375d7b",
   "metadata": {},
   "outputs": [
    {
     "name": "stdout",
     "output_type": "stream",
     "text": [
      "54\n"
     ]
    }
   ],
   "source": [
    "#1 Write a code to reverse a number\n",
    "#To reverse a number, you need to take the digits of the number and rearrange them in the opposite order.\n",
    "#Start by converting the number to a string, reverse that string, and then convert it back to an integer. This will give you the reversed version of the original number.\n",
    "#Example: If the number is 908701, take digits from last → 1, 0, 7, 8, 0, 9 → and make it 107809.\n",
    "num=int(input())\n",
    "temp=num\n",
    "revnum=0\n",
    "while num>0:\n",
    "    lastdigit=num%10\n",
    "    revnum=(revnum*10)+lastdigit\n",
    "    num=num//10\n",
    "print(revnum)"
   ]
  },
  {
   "cell_type": "code",
   "execution_count": 3,
   "id": "1989e850-2fa2-4320-96c7-8a2dd39fa12e",
   "metadata": {},
   "outputs": [
    {
     "name": "stdout",
     "output_type": "stream",
     "text": [
      "0 1 1 2 3 5 8 13 21 34 "
     ]
    }
   ],
   "source": [
    "#2. Write the code to find the Fibonacci series upto the nth term.\n",
    "#This problem asks to generate the Fibonacci sequence up to the nth term. In this sequence, each number is the sum of the two preceding ones, starting from 0 and 1.\n",
    "#The goal is to calculate and display all Fibonacci numbers from the 0th to the nth term.\n",
    "#Example for n = 10:\n",
    "#0, 1, 1, 2, 3, 5, 8, 13, 21, 34   \n",
    "#(Writing: Start with 0 and 1 → 0+1=1 → 1+1=2 → 1+2=3 → 2+3=5 → and so on.)\n",
    "def fib(n):\n",
    "    if n<=1:\n",
    "        return n\n",
    "    else:\n",
    "        return fib(n-1)+fib(n-2)\n",
    "n=int(input())\n",
    "for i in range(n):\n",
    "    print(fib(i),end=' ')"
   ]
  },
  {
   "cell_type": "code",
   "execution_count": null,
   "id": "1a774749-7997-4a56-b599-f725c5c8e764",
   "metadata": {},
   "outputs": [
    {
     "name": "stdout",
     "output_type": "stream",
     "text": [
      " 48\n",
      " 12\n"
     ]
    },
    {
     "name": "stdout",
     "output_type": "stream",
     "text": [
      "12\n"
     ]
    }
   ],
   "source": [
    "#3. Write code of Greatest Common Divisor \n",
    "#This problem asks to find the Greatest Common Divisor (GCD) of two given numbers. The GCD of two numbers is the largest positive integer that divides both numbers without leaving a remainder.\n",
    "#The Euclidean algorithm is a popular method for efficiently computing the GCD.\n",
    "#Example: Find GCD of 36 and 60:\n",
    "#The common divisors of 36 and 60 are 1, 2, 3, 4, 6, 9, 12, 18, 36 and 1, 2, 3, 4, 5, 6, 10, 12, 15, 20, 30, 60.\n",
    "#The largest common divisor is 12.\n",
    "def gcd(a,b):\n",
    "    while b!=0:\n",
    "        a,b=b,a%b\n",
    "    return a\n",
    "x=int(input())\n",
    "y=int(input())\n",
    "print(gcd(x,y))"
   ]
  },
  {
   "cell_type": "code",
   "execution_count": null,
   "id": "72e987af-0ce8-4df9-ad42-e7f1963e25fd",
   "metadata": {},
   "outputs": [
    {
     "name": "stdout",
     "output_type": "stream",
     "text": [
      "not perfect\n"
     ]
    }
   ],
   "source": [
    "#4. Write code of  Perfect number\n",
    "#A perfect number is a positive integer that is equal to the sum of its proper divisors, excluding the number itself. \n",
    "#Example: Is 28 a perfect number?\n",
    "#The divisors of 28 are 1, 2, 4, 7, 14.\n",
    "#Sum of divisors: 1 + 2 + 4 + 7 + 14 = 28, so 28 is a perfect number.\n",
    "def perfect(n):\n",
    "    Sum=0\n",
    "    for i in range(1,n):\n",
    "        if n%i==0:\n",
    "            Sum+=i\n",
    "    if Sum==n:\n",
    "        print(\"perfect\")\n",
    "    else:\n",
    "        print(\"not perfect\")\n",
    "    return\n",
    "perfect(5)"
   ]
  },
  {
   "cell_type": "code",
   "execution_count": null,
   "id": "eb13b751-d8d2-49a3-9339-ba6943b33b1f",
   "metadata": {},
   "outputs": [
    {
     "name": "stdout",
     "output_type": "stream",
     "text": [
      " listen\n",
      " listen\n"
     ]
    },
    {
     "data": {
      "text/plain": [
       "True"
      ]
     },
     "execution_count": 3,
     "metadata": {},
     "output_type": "execute_result"
    }
   ],
   "source": [
    "#5. Write code to Check if two strings are Anagram or not\n",
    "#Two strings are called anagrams if they contain the same characters in the same frequencies, but possibly in different orders.\n",
    "'''\n",
    "This code checks whether two given strings are anagrams of each other.\n",
    "Example: Are “listen” and “silent” anagrams?\n",
    "Sort both:\n",
    "“listen” → “eilnst”\n",
    "\n",
    "“silent” → “eilnst”\n",
    "Both are the same, so “listen” and “silent” are anagrams.'''\n",
    "def anagram(a,b):\n",
    "    return sorted(a)==sorted(b)\n",
    "\n",
    "a=input()\n",
    "b=input()\n",
    "anagram(a,b)"
   ]
  },
  {
   "cell_type": "code",
   "execution_count": null,
   "id": "ea414006-cd93-4781-b274-1fca1b350ac6",
   "metadata": {},
   "outputs": [
    {
     "name": "stdout",
     "output_type": "stream",
     "text": [
      " 121\n"
     ]
    },
    {
     "name": "stdout",
     "output_type": "stream",
     "text": [
      "It is a palindrome\n"
     ]
    }
   ],
   "source": [
    "#6. Write code Check if the given string is Palindrome or not\n",
    "def palindrome(s):\n",
    "    if s==s[::-1]:\n",
    "        print(\"It is a palindrome\")\n",
    "    else:\n",
    "        print(\"not palindrome\")\n",
    "s=input()\n",
    "palindrome(s)"
   ]
  },
  {
   "cell_type": "code",
   "execution_count": null,
   "id": "8db012ce-89df-44b7-ae30-ef7f15081a70",
   "metadata": {},
   "outputs": [
    {
     "name": "stdout",
     "output_type": "stream",
     "text": [
      " hello world\n"
     ]
    },
    {
     "data": {
      "text/plain": [
       "{'h': 1, 'e': 1, 'l': 3, 'o': 2, ' ': 1, 'w': 1, 'r': 1, 'd': 1}"
      ]
     },
     "execution_count": 12,
     "metadata": {},
     "output_type": "execute_result"
    }
   ],
   "source": [
    "#7. Write code to Calculate frequency of characters in a string\n",
    "\n",
    "'''This problem asks to calculate the frequency of each character in a given string.\n",
    "\n",
    "The goal is to determine how many times each character appears in the string.\n",
    "Example for string “hello”:\n",
    "‘h’ appears 1 time\n",
    "‘e’ appears 1 time\n",
    "‘l’ appears 2 times\n",
    "‘o’ appears 1 time'''\n",
    "\n",
    "def freq_char(s):\n",
    "    dic={}\n",
    "    for char in s:\n",
    "        if char in dic:\n",
    "            dic[char]+=1\n",
    "        else:\n",
    "            dic[char]=1\n",
    "    return dic\n",
    "s=input()\n",
    "freq_char(s)        "
   ]
  },
  {
   "cell_type": "code",
   "execution_count": 4,
   "id": "08168e15-72d5-44ff-ad9f-d4d228c350ee",
   "metadata": {},
   "outputs": [
    {
     "name": "stdout",
     "output_type": "stream",
     "text": [
      "hello\n"
     ]
    }
   ],
   "source": [
    "print(\"hello\")"
   ]
  },
  {
   "cell_type": "code",
   "execution_count": 1,
   "id": "abfe76fb",
   "metadata": {},
   "outputs": [
    {
     "data": {
      "text/plain": [
       "[4, 5, 6, 8, 9]"
      ]
     },
     "execution_count": 1,
     "metadata": {},
     "output_type": "execute_result"
    }
   ],
   "source": [
    "#9. Write a code for bubble sort\n",
    "'''Bubble Sort is a simple sorting algorithm that repeatedly steps through the list, compares adjacent elements, and swaps them if they are in the wrong order.\n",
    "\n",
    "The process continues until the list is sorted.\n",
    "Example for list [5, 3, 8, 4, 2]:\n",
    "After sorting, the list will be [2, 3, 4, 5, 8].'''\n",
    "def bubblesort(arr):\n",
    "    n=len(arr)\n",
    "    for i in range(len(arr)):\n",
    "        for j in range(0,n-i-1):\n",
    "            if arr[j]>arr[j+1]:\n",
    "                arr[j],arr[j+1]=arr[j+1],arr[j]\n",
    "    return arr\n",
    "arr=list(map(int,input().split()))\n",
    "bubblesort(arr)"
   ]
  },
  {
   "cell_type": "code",
   "execution_count": null,
   "id": "b4fba273",
   "metadata": {},
   "outputs": [
    {
     "data": {
      "text/plain": [
       "True"
      ]
     },
     "execution_count": 4,
     "metadata": {},
     "output_type": "execute_result"
    }
   ],
   "source": [
    "#11. Write to code to check whether a given year is leap year or not.\n",
    "'''A leap year is a year that is divisible by 4, but not divisible by 100, unless it is also divisible by 400.\n",
    "\n",
    "This code checks whether a given year is a leap year based on this rule.\n",
    "Example:\n",
    "2020 is a leap year (divisible by 4).\n",
    "1900 is not a leap year (divisible by 100 but not 400).\n",
    "2000 is a leap year (divisible by 400).'''\n",
    "def leapyear(date):\n",
    "    if date%4==0:\n",
    "        if date%100!=0 or date%400==0:\n",
    "            return True\n",
    "    return  False\n",
    "leapyear(2024)"
   ]
  },
  {
   "cell_type": "code",
   "execution_count": 7,
   "id": "646c88e3",
   "metadata": {},
   "outputs": [
    {
     "data": {
      "text/plain": [
       "['w', 'i']"
      ]
     },
     "execution_count": 7,
     "metadata": {},
     "output_type": "execute_result"
    }
   ],
   "source": [
    "#12. Find non-repeating characters in a string\n",
    "'''This problem asks to find the characters in a string that appear only once, i.e., the non-repeating characters.\n",
    "\n",
    "These characters are unique and do not appear multiple times in the string.\n",
    "Example for string “swiss”:\n",
    "Non-repeating characters are ‘w’ and ‘i’, since ‘s’ repeats.'''\n",
    "def nonrepchars(s):\n",
    "    freq={}\n",
    "    for char in s:\n",
    "        if char in freq:\n",
    "            freq[char]+=1\n",
    "        else:\n",
    "            freq[char]=1\n",
    "    return [char for char in freq if freq[char]==1]   \n",
    "s=input()\n",
    "nonrepchars(s)"
   ]
  },
  {
   "cell_type": "code",
   "execution_count": 2,
   "id": "80d073b3",
   "metadata": {},
   "outputs": [
    {
     "data": {
      "text/plain": [
       "'hello python'"
      ]
     },
     "execution_count": 2,
     "metadata": {},
     "output_type": "execute_result"
    }
   ],
   "source": [
    "#13. Write a code to replace a substring in a string.\n",
    "'''This problem asks to replace a substring within a string with another substring.\n",
    "\n",
    "The goal is to find all occurrences of the target substring and replace them with the desired one.\n",
    "Example for string “hello world”:\n",
    "Replacing “world” with “Python” results in “hello Python”.'''\n",
    "def replace_substring(original,to_be_replaced,new):\n",
    "    original=original.replace(to_be_replaced,new)\n",
    "    return original\n",
    "s1=input()\n",
    "s2=input()\n",
    "s3=input()\n",
    "replace_substring(s1,s2,s3)"
   ]
  },
  {
   "cell_type": "code",
   "execution_count": null,
   "id": "0ec6fd01",
   "metadata": {},
   "outputs": [
    {
     "data": {
      "text/plain": [
       "[4, 1, 2, 3]"
      ]
     },
     "execution_count": 9,
     "metadata": {},
     "output_type": "execute_result"
    }
   ],
   "source": [
    "#15. Write a code to replace each element in an array by its rank in the array\n",
    "'''This problem asks to replace each element in an array by its rank in the array.\n",
    "\n",
    "The rank of an element is its position in the sorted array (with ties assigned the same rank).\n",
    "Example for array [40, 10, 20, 30]:\n",
    "After replacing each element by its rank, the array will be [4, 1, 2, 3] (after sorting, the elements are [10, 20, 30, 40], so ranks are [1, 2, 3, 4]).'''\n",
    "\n",
    "def changeArr(input1):\n",
    "    newArray = input1.copy()\n",
    "    newArray.sort()\n",
    "    for i in range(len(input1)):\n",
    "        for j in range(len(newArray)):\n",
    "            if input1[i]==newArray[j]:\n",
    "                input1[i] = j+1\n",
    "                break\n",
    "    return input1\n",
    "arr=list(map(int,input().split()))\n",
    "changeArr(arr)\n"
   ]
  },
  {
   "cell_type": "code",
   "execution_count": 12,
   "id": "85f14ccb",
   "metadata": {},
   "outputs": [
    {
     "name": "stdout",
     "output_type": "stream",
     "text": [
      "[4, 5, 1, 2, 3]\n"
     ]
    }
   ],
   "source": [
    "#16. Write a code to find circular rotation of an array by K positions.\n",
    "'''This problem asks to find the circular rotation of an array by K positions.\n",
    "\n",
    "In a circular rotation, elements that are moved from the end of the array are appended to the beginning.\n",
    "Example for array [1, 2, 3, 4, 5] and K = 2:\n",
    "After rotating the array by 2 positions, the result will be [4, 5, 1, 2, 3].''' \n",
    "def rotate(arr,k):\n",
    "    n=len(arr)\n",
    "    k=k%n\n",
    "    def reverse(start,end):\n",
    "        while start<end:\n",
    "            arr[start],arr[end]=arr[end],arr[start]\n",
    "            start+=1\n",
    "            end-=1\n",
    "    reverse(n-k,n-1)\n",
    "    reverse(0,n-k-1)\n",
    "    reverse(0,n-1)\n",
    "    return arr\n",
    "\n",
    "arr=list(map(int,input().split()))\n",
    "k=int(input())\n",
    "print(rotate(arr,k))"
   ]
  },
  {
   "cell_type": "code",
   "execution_count": 14,
   "id": "f6816085",
   "metadata": {},
   "outputs": [
    {
     "data": {
      "text/plain": [
       "[5, 6, 7]"
      ]
     },
     "execution_count": 14,
     "metadata": {},
     "output_type": "execute_result"
    }
   ],
   "source": [
    "#17. Write a code to find non-repeating elements in an array.\n",
    "'''This problem asks to find the elements in an array that appear only once, i.e., the non-repeating elements.\n",
    "\n",
    "These elements are unique and do not appear multiple times in the array.\n",
    "Example for array [4, 5, 4, 3, 6, 3, 7]:\n",
    "Non-repeating elements are [5, 6, 7], since ‘4’ and ‘3’ repeat.'''\n",
    "\n",
    "def non_repeating(arr):\n",
    "    freq={}\n",
    "    for num in arr:\n",
    "        if num in freq:\n",
    "            freq[num]+=1\n",
    "        else:\n",
    "            freq[num]=1\n",
    "    result=[]\n",
    "    for num in arr:\n",
    "        if freq[num]==1:\n",
    "            result.append(num)\n",
    "    return result\n",
    "arr=list(map(int,input().split()))\n",
    "non_repeating(arr)\n",
    "\n"
   ]
  },
  {
   "cell_type": "code",
   "execution_count": 2,
   "id": "ee898441",
   "metadata": {},
   "outputs": [
    {
     "data": {
      "text/plain": [
       "'racecar'"
      ]
     },
     "execution_count": 2,
     "metadata": {},
     "output_type": "execute_result"
    }
   ],
   "source": [
    "#18. Write a code to check for the longest palindrome in an array.\n",
    "'''This problem asks to find the longest palindrome in an array of strings. A palindrome is a word, phrase, or sequence that reads the same backward as forward.\n",
    "\n",
    "The goal is to identify the longest string in the array that is a palindrome.\n",
    "Example for array [“racecar”, “level”, “hello”, “madam”, “world”]:\n",
    "The longest palindrome is “racecar”.''' \n",
    "def is_palindrome(s):\n",
    "    return s==s[::-1]\n",
    "def long_palindrome(arr):\n",
    "    longest=\"\"\n",
    "    for word in arr:\n",
    "        if is_palindrome(word):\n",
    "            if len(word)>len(longest):\n",
    "                longest=word\n",
    "    return longest if longest else \"no palindrome found\"\n",
    "\n",
    "arr=input().split()\n",
    "long_palindrome(arr)"
   ]
  },
  {
   "cell_type": "code",
   "execution_count": null,
   "id": "52933dff",
   "metadata": {},
   "outputs": [
    {
     "data": {
      "text/plain": [
       "120"
      ]
     },
     "execution_count": 5,
     "metadata": {},
     "output_type": "execute_result"
    }
   ],
   "source": [
    "#19. Write a code to find the factorial of a number.\n",
    "'''This problem asks to find the factorial of a given number. The factorial of a non-negative integer n is the product of all positive integers less than or equal to n. It is denoted as n!.\n",
    "For example:\n",
    "5! = 5 × 4 × 3 × 2 × 1 = 120\n",
    "0! = 1 (by definition).'''\n",
    "\n",
    "def factorial(n):\n",
    "    product=1\n",
    "    if n<0:\n",
    "        return\n",
    "    else:\n",
    "        for i in range(n,0,-1):\n",
    "            product*=i\n",
    "    return product\n",
    "n=int(input())\n",
    "factorial(n)\n",
    "\n"
   ]
  },
  {
   "cell_type": "code",
   "execution_count": null,
   "id": "f4e5102f",
   "metadata": {},
   "outputs": [
    {
     "data": {
      "text/plain": [
       "'Armstrong'"
      ]
     },
     "execution_count": 11,
     "metadata": {},
     "output_type": "execute_result"
    }
   ],
   "source": [
    "#20. Write the code to for Armstrong number\n",
    "'''An Armstrong number (or Narcissistic number) is a number that is equal to the sum of its own digits each raised to the power of the number of digits.\n",
    "\n",
    "For example:\n",
    "153 is an Armstrong number because 1^3 + 5^3 + 3^3 = 153.\n",
    "370 is an Armstrong number because 3^3 + 7^3 + 0^3 = 370.'''\n",
    "\n",
    "def armstrong_number(a):\n",
    "    original=a\n",
    "    n=len(str(abs(a)))\n",
    "    sum=0\n",
    "    while a!=0:\n",
    "        b=a%10\n",
    "        sum+=b**n\n",
    "        a=a//10\n",
    "    return \"Armstrong\" if sum==original else \"Not armstrong\"\n",
    "a=int(input())\n",
    "armstrong_number(a)\n",
    "\n"
   ]
  },
  {
   "cell_type": "code",
   "execution_count": 14,
   "id": "f27a2736",
   "metadata": {},
   "outputs": [
    {
     "data": {
      "text/plain": [
       "15"
      ]
     },
     "execution_count": 14,
     "metadata": {},
     "output_type": "execute_result"
    }
   ],
   "source": [
    "#21. Write a program to find the sum of Natural Numbers using Recursion.\n",
    "'''This problem asks to find the sum of the first n natural numbers using recursion. The sum of the first n natural numbers is given by the formula 1 + 2 + 3 + … + n.\n",
    "\n",
    "For example:\n",
    "Sum of first 5 natural numbers: 1 + 2 + 3 + 4 + 5 = 15.'''\n",
    "def natural_sum(n):\n",
    "    if n==1:\n",
    "        return 1\n",
    "    return n+natural_sum(n-1)\n",
    "n=int(input())\n",
    "natural_sum(n)\n",
    "\n",
    "\n",
    "\n",
    "\n"
   ]
  },
  {
   "cell_type": "code",
   "execution_count": null,
   "id": "b748cb00",
   "metadata": {},
   "outputs": [
    {
     "data": {
      "text/plain": [
       "[[2, 4, 6], [8, 10, 12]]"
      ]
     },
     "execution_count": 16,
     "metadata": {},
     "output_type": "execute_result"
    }
   ],
   "source": [
    "#22. Write a program to add Two Matrices using Multi-dimensional Array.\n",
    "'''This problem asks to add two matrices using a multi-dimensional array. Matrix addition is done by adding corresponding elements of two matrices of the same size.\n",
    "\n",
    "The sum matrix will have the same dimensions as the input matrices.\n",
    "Example for matrices:\n",
    "Matrix A:\n",
    "[1, 2, 3]\n",
    "[4, 5, 6]\n",
    "\n",
    "Matrix B:\n",
    "[7, 8, 9]\n",
    "[10, 11, 12]\n",
    "\n",
    "The sum of Matrix A and Matrix B:\n",
    "[1+7, 2+8, 3+9]\n",
    "[4+10, 5+11, 6+12]\n",
    "\n",
    "Result:\n",
    "[8, 10, 12]\n",
    "[14, 16, 18]''' \n",
    "\n",
    "\n",
    "def matrix_addition(a,b):\n",
    "    result=[]\n",
    "    for i in range(len(a)):\n",
    "        row=[]\n",
    "        for j in range(len(a[0])):\n",
    "            row.append(a[i][j]+b[i][j])\n",
    "        result.append(row)\n",
    "    return result\n",
    "a=[[1,2,3],[4,5,6]]\n",
    "b=[[1,2,3],[4,5,6]]\n",
    "matrix_addition(a,b)"
   ]
  },
  {
   "cell_type": "code",
   "execution_count": null,
   "id": "e8982bdb",
   "metadata": {},
   "outputs": [],
   "source": []
  },
  {
   "cell_type": "code",
   "execution_count": null,
   "id": "29bd3858",
   "metadata": {},
   "outputs": [],
   "source": []
  }
 ],
 "metadata": {
  "kernelspec": {
   "display_name": "Python 3",
   "language": "python",
   "name": "python3"
  },
  "language_info": {
   "codemirror_mode": {
    "name": "ipython",
    "version": 3
   },
   "file_extension": ".py",
   "mimetype": "text/x-python",
   "name": "python",
   "nbconvert_exporter": "python",
   "pygments_lexer": "ipython3",
   "version": "3.13.2"
  }
 },
 "nbformat": 4,
 "nbformat_minor": 5
}
